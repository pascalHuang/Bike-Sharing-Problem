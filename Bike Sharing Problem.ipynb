{
 "cells": [
  {
   "cell_type": "code",
   "execution_count": 1,
   "id": "8eb3e7fc",
   "metadata": {},
   "outputs": [],
   "source": [
    "import pandas as pd \n",
    "import numpy as np\n",
    "import matplotlib.pyplot as plt \n",
    "import sklearn\n",
    "import seaborn as sns "
   ]
  },
  {
   "cell_type": "code",
   "execution_count": 2,
   "id": "1404ad86",
   "metadata": {},
   "outputs": [],
   "source": [
    "day = pd.read_csv('D:\\COURS-EFREI M1\\Machine Learning\\Bike sharing\\day.csv')\n",
    "hour = pd.read_csv('D:\\COURS-EFREI M1\\Machine Learning\\Bike sharing\\hour.csv')"
   ]
  },
  {
   "cell_type": "code",
   "execution_count": 3,
   "id": "1a9318b7",
   "metadata": {},
   "outputs": [
    {
     "data": {
      "text/html": [
       "<div>\n",
       "<style scoped>\n",
       "    .dataframe tbody tr th:only-of-type {\n",
       "        vertical-align: middle;\n",
       "    }\n",
       "\n",
       "    .dataframe tbody tr th {\n",
       "        vertical-align: top;\n",
       "    }\n",
       "\n",
       "    .dataframe thead th {\n",
       "        text-align: right;\n",
       "    }\n",
       "</style>\n",
       "<table border=\"1\" class=\"dataframe\">\n",
       "  <thead>\n",
       "    <tr style=\"text-align: right;\">\n",
       "      <th></th>\n",
       "      <th>instant</th>\n",
       "      <th>dteday</th>\n",
       "      <th>season</th>\n",
       "      <th>yr</th>\n",
       "      <th>mnth</th>\n",
       "      <th>hr</th>\n",
       "      <th>holiday</th>\n",
       "      <th>weekday</th>\n",
       "      <th>workingday</th>\n",
       "      <th>weathersit</th>\n",
       "      <th>temp</th>\n",
       "      <th>atemp</th>\n",
       "      <th>hum</th>\n",
       "      <th>windspeed</th>\n",
       "      <th>casual</th>\n",
       "      <th>registered</th>\n",
       "      <th>cnt</th>\n",
       "    </tr>\n",
       "  </thead>\n",
       "  <tbody>\n",
       "    <tr>\n",
       "      <th>0</th>\n",
       "      <td>1</td>\n",
       "      <td>2011-01-01</td>\n",
       "      <td>1</td>\n",
       "      <td>0</td>\n",
       "      <td>1</td>\n",
       "      <td>0</td>\n",
       "      <td>0</td>\n",
       "      <td>6</td>\n",
       "      <td>0</td>\n",
       "      <td>1</td>\n",
       "      <td>0.24</td>\n",
       "      <td>0.2879</td>\n",
       "      <td>0.81</td>\n",
       "      <td>0.0</td>\n",
       "      <td>3</td>\n",
       "      <td>13</td>\n",
       "      <td>16</td>\n",
       "    </tr>\n",
       "    <tr>\n",
       "      <th>1</th>\n",
       "      <td>2</td>\n",
       "      <td>2011-01-01</td>\n",
       "      <td>1</td>\n",
       "      <td>0</td>\n",
       "      <td>1</td>\n",
       "      <td>1</td>\n",
       "      <td>0</td>\n",
       "      <td>6</td>\n",
       "      <td>0</td>\n",
       "      <td>1</td>\n",
       "      <td>0.22</td>\n",
       "      <td>0.2727</td>\n",
       "      <td>0.80</td>\n",
       "      <td>0.0</td>\n",
       "      <td>8</td>\n",
       "      <td>32</td>\n",
       "      <td>40</td>\n",
       "    </tr>\n",
       "    <tr>\n",
       "      <th>2</th>\n",
       "      <td>3</td>\n",
       "      <td>2011-01-01</td>\n",
       "      <td>1</td>\n",
       "      <td>0</td>\n",
       "      <td>1</td>\n",
       "      <td>2</td>\n",
       "      <td>0</td>\n",
       "      <td>6</td>\n",
       "      <td>0</td>\n",
       "      <td>1</td>\n",
       "      <td>0.22</td>\n",
       "      <td>0.2727</td>\n",
       "      <td>0.80</td>\n",
       "      <td>0.0</td>\n",
       "      <td>5</td>\n",
       "      <td>27</td>\n",
       "      <td>32</td>\n",
       "    </tr>\n",
       "    <tr>\n",
       "      <th>3</th>\n",
       "      <td>4</td>\n",
       "      <td>2011-01-01</td>\n",
       "      <td>1</td>\n",
       "      <td>0</td>\n",
       "      <td>1</td>\n",
       "      <td>3</td>\n",
       "      <td>0</td>\n",
       "      <td>6</td>\n",
       "      <td>0</td>\n",
       "      <td>1</td>\n",
       "      <td>0.24</td>\n",
       "      <td>0.2879</td>\n",
       "      <td>0.75</td>\n",
       "      <td>0.0</td>\n",
       "      <td>3</td>\n",
       "      <td>10</td>\n",
       "      <td>13</td>\n",
       "    </tr>\n",
       "    <tr>\n",
       "      <th>4</th>\n",
       "      <td>5</td>\n",
       "      <td>2011-01-01</td>\n",
       "      <td>1</td>\n",
       "      <td>0</td>\n",
       "      <td>1</td>\n",
       "      <td>4</td>\n",
       "      <td>0</td>\n",
       "      <td>6</td>\n",
       "      <td>0</td>\n",
       "      <td>1</td>\n",
       "      <td>0.24</td>\n",
       "      <td>0.2879</td>\n",
       "      <td>0.75</td>\n",
       "      <td>0.0</td>\n",
       "      <td>0</td>\n",
       "      <td>1</td>\n",
       "      <td>1</td>\n",
       "    </tr>\n",
       "  </tbody>\n",
       "</table>\n",
       "</div>"
      ],
      "text/plain": [
       "   instant      dteday  season  yr  mnth  hr  holiday  weekday  workingday  \\\n",
       "0        1  2011-01-01       1   0     1   0        0        6           0   \n",
       "1        2  2011-01-01       1   0     1   1        0        6           0   \n",
       "2        3  2011-01-01       1   0     1   2        0        6           0   \n",
       "3        4  2011-01-01       1   0     1   3        0        6           0   \n",
       "4        5  2011-01-01       1   0     1   4        0        6           0   \n",
       "\n",
       "   weathersit  temp   atemp   hum  windspeed  casual  registered  cnt  \n",
       "0           1  0.24  0.2879  0.81        0.0       3          13   16  \n",
       "1           1  0.22  0.2727  0.80        0.0       8          32   40  \n",
       "2           1  0.22  0.2727  0.80        0.0       5          27   32  \n",
       "3           1  0.24  0.2879  0.75        0.0       3          10   13  \n",
       "4           1  0.24  0.2879  0.75        0.0       0           1    1  "
      ]
     },
     "execution_count": 3,
     "metadata": {},
     "output_type": "execute_result"
    }
   ],
   "source": [
    "hour.head()"
   ]
  },
  {
   "cell_type": "code",
   "execution_count": 5,
   "id": "c60db5dc",
   "metadata": {},
   "outputs": [
    {
     "name": "stdout",
     "output_type": "stream",
     "text": [
      "<class 'pandas.core.frame.DataFrame'>\n",
      "RangeIndex: 17379 entries, 0 to 17378\n",
      "Data columns (total 17 columns):\n",
      " #   Column      Non-Null Count  Dtype  \n",
      "---  ------      --------------  -----  \n",
      " 0   instant     17379 non-null  int64  \n",
      " 1   dteday      17379 non-null  object \n",
      " 2   season      17379 non-null  int64  \n",
      " 3   yr          17379 non-null  int64  \n",
      " 4   mnth        17379 non-null  int64  \n",
      " 5   hr          17379 non-null  int64  \n",
      " 6   holiday     17379 non-null  int64  \n",
      " 7   weekday     17379 non-null  int64  \n",
      " 8   workingday  17379 non-null  int64  \n",
      " 9   weathersit  17379 non-null  int64  \n",
      " 10  temp        17379 non-null  float64\n",
      " 11  atemp       17379 non-null  float64\n",
      " 12  hum         17379 non-null  float64\n",
      " 13  windspeed   17379 non-null  float64\n",
      " 14  casual      17379 non-null  int64  \n",
      " 15  registered  17379 non-null  int64  \n",
      " 16  cnt         17379 non-null  int64  \n",
      "dtypes: float64(4), int64(12), object(1)\n",
      "memory usage: 2.3+ MB\n"
     ]
    }
   ],
   "source": [
    "hour.info()"
   ]
  },
  {
   "cell_type": "code",
   "execution_count": 7,
   "id": "2cde2da6",
   "metadata": {},
   "outputs": [],
   "source": [
    "day.drop(labels = ['casual','registered','atemp','dteday'] , axis = 1 , inplace = True)\n",
    "hour.drop(labels = ['casual','registered','atemp','dteday'] , axis = 1 , inplace = True)"
   ]
  },
  {
   "cell_type": "code",
   "execution_count": 9,
   "id": "f904ecc9",
   "metadata": {},
   "outputs": [
    {
     "data": {
      "text/html": [
       "<div>\n",
       "<style scoped>\n",
       "    .dataframe tbody tr th:only-of-type {\n",
       "        vertical-align: middle;\n",
       "    }\n",
       "\n",
       "    .dataframe tbody tr th {\n",
       "        vertical-align: top;\n",
       "    }\n",
       "\n",
       "    .dataframe thead th {\n",
       "        text-align: right;\n",
       "    }\n",
       "</style>\n",
       "<table border=\"1\" class=\"dataframe\">\n",
       "  <thead>\n",
       "    <tr style=\"text-align: right;\">\n",
       "      <th></th>\n",
       "      <th>instant</th>\n",
       "      <th>season</th>\n",
       "      <th>yr</th>\n",
       "      <th>mnth</th>\n",
       "      <th>hr</th>\n",
       "      <th>holiday</th>\n",
       "      <th>weekday</th>\n",
       "      <th>workingday</th>\n",
       "      <th>weathersit</th>\n",
       "      <th>temp</th>\n",
       "      <th>hum</th>\n",
       "      <th>windspeed</th>\n",
       "      <th>cnt</th>\n",
       "    </tr>\n",
       "  </thead>\n",
       "  <tbody>\n",
       "    <tr>\n",
       "      <th>0</th>\n",
       "      <td>1</td>\n",
       "      <td>1</td>\n",
       "      <td>0</td>\n",
       "      <td>1</td>\n",
       "      <td>0</td>\n",
       "      <td>0</td>\n",
       "      <td>6</td>\n",
       "      <td>0</td>\n",
       "      <td>1</td>\n",
       "      <td>0.24</td>\n",
       "      <td>0.81</td>\n",
       "      <td>0.0</td>\n",
       "      <td>16</td>\n",
       "    </tr>\n",
       "    <tr>\n",
       "      <th>1</th>\n",
       "      <td>2</td>\n",
       "      <td>1</td>\n",
       "      <td>0</td>\n",
       "      <td>1</td>\n",
       "      <td>1</td>\n",
       "      <td>0</td>\n",
       "      <td>6</td>\n",
       "      <td>0</td>\n",
       "      <td>1</td>\n",
       "      <td>0.22</td>\n",
       "      <td>0.80</td>\n",
       "      <td>0.0</td>\n",
       "      <td>40</td>\n",
       "    </tr>\n",
       "    <tr>\n",
       "      <th>2</th>\n",
       "      <td>3</td>\n",
       "      <td>1</td>\n",
       "      <td>0</td>\n",
       "      <td>1</td>\n",
       "      <td>2</td>\n",
       "      <td>0</td>\n",
       "      <td>6</td>\n",
       "      <td>0</td>\n",
       "      <td>1</td>\n",
       "      <td>0.22</td>\n",
       "      <td>0.80</td>\n",
       "      <td>0.0</td>\n",
       "      <td>32</td>\n",
       "    </tr>\n",
       "    <tr>\n",
       "      <th>3</th>\n",
       "      <td>4</td>\n",
       "      <td>1</td>\n",
       "      <td>0</td>\n",
       "      <td>1</td>\n",
       "      <td>3</td>\n",
       "      <td>0</td>\n",
       "      <td>6</td>\n",
       "      <td>0</td>\n",
       "      <td>1</td>\n",
       "      <td>0.24</td>\n",
       "      <td>0.75</td>\n",
       "      <td>0.0</td>\n",
       "      <td>13</td>\n",
       "    </tr>\n",
       "    <tr>\n",
       "      <th>4</th>\n",
       "      <td>5</td>\n",
       "      <td>1</td>\n",
       "      <td>0</td>\n",
       "      <td>1</td>\n",
       "      <td>4</td>\n",
       "      <td>0</td>\n",
       "      <td>6</td>\n",
       "      <td>0</td>\n",
       "      <td>1</td>\n",
       "      <td>0.24</td>\n",
       "      <td>0.75</td>\n",
       "      <td>0.0</td>\n",
       "      <td>1</td>\n",
       "    </tr>\n",
       "  </tbody>\n",
       "</table>\n",
       "</div>"
      ],
      "text/plain": [
       "   instant  season  yr  mnth  hr  holiday  weekday  workingday  weathersit  \\\n",
       "0        1       1   0     1   0        0        6           0           1   \n",
       "1        2       1   0     1   1        0        6           0           1   \n",
       "2        3       1   0     1   2        0        6           0           1   \n",
       "3        4       1   0     1   3        0        6           0           1   \n",
       "4        5       1   0     1   4        0        6           0           1   \n",
       "\n",
       "   temp   hum  windspeed  cnt  \n",
       "0  0.24  0.81        0.0   16  \n",
       "1  0.22  0.80        0.0   40  \n",
       "2  0.22  0.80        0.0   32  \n",
       "3  0.24  0.75        0.0   13  \n",
       "4  0.24  0.75        0.0    1  "
      ]
     },
     "execution_count": 9,
     "metadata": {},
     "output_type": "execute_result"
    }
   ],
   "source": [
    "hour.head()"
   ]
  },
  {
   "cell_type": "code",
   "execution_count": 10,
   "id": "c8938cab",
   "metadata": {},
   "outputs": [
    {
     "name": "stdout",
     "output_type": "stream",
     "text": [
      "mean rentals in fall : 236.01623665480426\n"
     ]
    },
    {
     "data": {
      "image/png": "[encoded data removed]",
      "text/plain": [
       "<Figure size 360x360 with 1 Axes>"
      ]
     },
     "metadata": {
      "needs_background": "light"
     },
     "output_type": "display_data"
    }
   ],
   "source": [
    "sns.catplot(data = hour.replace({'season':{1:'spring' , 2:'summer' , 3:'fall' , 4:'winter'}} , inplace = False), \n",
    "x = 'season' , y = 'cnt' , kind = 'bar' , ci = None ,  alpha = 0.8)\n",
    "\n",
    "plt.title('Comparaison between season')\n",
    "\n",
    "print( \"mean rentals in fall :\", hour[hour['season'] == 3]['cnt'].mean())"
   ]
  },
  {
   "cell_type": "markdown",
   "id": "ead99a75",
   "metadata": {},
   "source": [
    "We can see that bikes are more use in fall"
   ]
  },
  {
   "cell_type": "code",
   "execution_count": 11,
   "id": "ce6fea4b",
   "metadata": {
    "scrolled": true
   },
   "outputs": [
    {
     "data": {
      "text/plain": [
       "Text(17.5, 580, 'x = 17')"
      ]
     },
     "execution_count": 11,
     "metadata": {},
     "output_type": "execute_result"
    },
    {
     "data": {
      "image/png": "[encoded data removed]",
      "text/plain": [
       "<Figure size 432x288 with 1 Axes>"
      ]
     },
     "metadata": {
      "needs_background": "light"
     },
     "output_type": "display_data"
    }
   ],
   "source": [
    "from matplotlib.lines import Line2D\n",
    "\n",
    "legend_dict = {'spring':'tab:green' , 'summer':'tab:red' , 'fall':'gold' , 'winter':'tab:blue'}\n",
    "line_color = ['tab:green','tab:red','gold','tab:blue']\n",
    "\n",
    "\n",
    "for i in range(1,5): # we have 4 seasons from 1 to 4\n",
    "    y = []\n",
    "    for j in range(24): # also 24 hours from 0 to 23\n",
    "        y.append(hour[(hour['hr'] == j)&(hour['season'] == i)]['cnt'].mean())\n",
    "    plt.plot(np.arange(24) , y , alpha = 0.9 , linestyle = '--' , linewidth = 2.2 , color = line_color[i-1])\n",
    "\n",
    "    \n",
    "handles = [Line2D([0], [0], marker='o', color='w', markerfacecolor=c, label=l, markersize=8) for l,c in legend_dict.items()]\n",
    "plt.legend(title='Seasons', handles=handles, bbox_to_anchor=(1.05, 1), loc='upper left')\n",
    "plt.plot([8,8] , [0,600] , linestyle = ':' , color = \"k\")\n",
    "plt.plot([17,17] , [0,600] , linestyle = ':', color = \"k\")\n",
    "\n",
    "plt_font = {'family':'serif' , 'size':14}\n",
    "plt.xlabel('Hour' , fontdict = plt_font)\n",
    "plt.ylabel('Mean rentals' , fontdict = plt_font)\n",
    "\n",
    "\n",
    "plt.text(8.5,580,'x = 8')\n",
    "plt.text(17.5,580,'x = 17')"
   ]
  },
  {
   "cell_type": "markdown",
   "id": "c5101a52",
   "metadata": {},
   "source": [
    "We can see with this graph that at 8 am and 5 pm the use of bikes are peaking"
   ]
  },
  {
   "cell_type": "code",
   "execution_count": 38,
   "id": "8b9bb31b",
   "metadata": {
    "scrolled": false
   },
   "outputs": [
    {
     "data": {
      "image/png": "[encoded data removed]",
      "text/plain": [
       "<Figure size 432x288 with 1 Axes>"
      ]
     },
     "metadata": {
      "needs_background": "light"
     },
     "output_type": "display_data"
    }
   ],
   "source": [
    "X = hour.iloc[:, 4] #hours\n",
    "Y = hour.iloc[:, 12] #counts\n",
    "\n",
    "plt.scatter(X, Y)\n",
    "\n",
    "plt.show()"
   ]
  },
  {
   "cell_type": "markdown",
   "id": "877e027a",
   "metadata": {},
   "source": [
    "# Linear regression with a gradient descent from scrach (1 dimension)  for the hourly demand "
   ]
  },
  {
   "cell_type": "code",
   "execution_count": 39,
   "id": "2df9de8d",
   "metadata": {},
   "outputs": [
    {
     "name": "stdout",
     "output_type": "stream",
     "text": [
      "13.731829995883245 16.93021019414093\n"
     ]
    }
   ],
   "source": [
    "# Building the model\n",
    "a = 0\n",
    "b = 0\n",
    "\n",
    "L = 0.001           # The learning Rate\n",
    "iteration = 500     # The number of iterations to perform gradient descent\n",
    "n = len(X)          # Number of elements in X\n",
    "\n",
    "# Performing Gradient Descent \n",
    "for i in range(iteration): \n",
    "    \n",
    "    Y_pred = a*X + b  # The current predicted value of Y\n",
    "    \n",
    "    D_a = (-2/n) * sum(X * (Y - Y_pred))  # Derivative wrt a\n",
    "    D_b = (-2/n) * sum(Y - Y_pred)  # Derivative wrt b\n",
    "    \n",
    "    a = a - L * D_a  # Update a\n",
    "    b = b - L * D_b  # Update b\n",
    "    \n",
    "print (a, b)"
   ]
  },
  {
   "cell_type": "code",
   "execution_count": 14,
   "id": "1296807e",
   "metadata": {
    "scrolled": false
   },
   "outputs": [
    {
     "data": {
      "image/png": "[encoded data removed]",
      "text/plain": [
       "<Figure size 432x288 with 1 Axes>"
      ]
     },
     "metadata": {
      "needs_background": "light"
     },
     "output_type": "display_data"
    }
   ],
   "source": [
    "Y_pred = a*X + b\n",
    "\n",
    "plt.scatter(X, Y) \n",
    "\n",
    "\n",
    "plt.plot([min(X), max(X)], [min(Y_pred), max(Y_pred)], color='red')  # regression line\n",
    "plt.show()"
   ]
  },
  {
   "cell_type": "code",
   "execution_count": 22,
   "id": "c9424d3e",
   "metadata": {},
   "outputs": [
    {
     "name": "stdout",
     "output_type": "stream",
     "text": [
      "168.92754912897863\n",
      "0.15529234536489225\n"
     ]
    }
   ],
   "source": [
    "from sklearn.metrics import mean_squared_error\n",
    "\n",
    "me = np.sqrt(mean_squared_error(Y, Y_pred))\n",
    "print(me) #We can see that's is a very bad model \n",
    "\n",
    "correlation_matrix = np.corrcoef(X, Y)\n",
    "correlation_xy = correlation_matrix[0,1]\n",
    "r_squared = correlation_xy**2\n",
    "\n",
    "print(r_squared)"
   ]
  },
  {
   "cell_type": "markdown",
   "id": "ed8b07f5",
   "metadata": {},
   "source": [
    "# Linear regression with a gradient descent from scrach (multi dimension)  for the hourly demand "
   ]
  },
  {
   "cell_type": "code",
   "execution_count": 46,
   "id": "96feac71",
   "metadata": {},
   "outputs": [],
   "source": [
    "m = hour['cnt'].values.size\n",
    "\n",
    "def cost_function(X, Y, theta):\n",
    "    y_pred = np.dot(X, theta)\n",
    "    sqrd_error = (y_pred - y ) ** 2\n",
    "    cost = 1/ (2 * m) * np.sum(sqrd_error)\n",
    "    return cost"
   ]
  },
  {
   "cell_type": "code",
   "execution_count": 59,
   "id": "9c2455e5",
   "metadata": {},
   "outputs": [
    {
     "data": {
      "text/plain": [
       "40.05957504069408"
      ]
     },
     "execution_count": 59,
     "metadata": {},
     "output_type": "execute_result"
    }
   ],
   "source": [
    "theta = np.zeros((17379,))\n",
    "cost_function(X, Y, theta)"
   ]
  },
  {
   "cell_type": "code",
   "execution_count": 62,
   "id": "c8f926f4",
   "metadata": {},
   "outputs": [],
   "source": [
    "def gradient_descent(X, Y, theta, alpha, iterations):\n",
    "    costs = []\n",
    "    for i in range(iterations):\n",
    "        y_pred = np.dot(X, theta)\n",
    "        der = np.dot(X.transpose(), (y_pred - y)) / m\n",
    "        theta -= alpha * der \n",
    "        costs.happend(cost_function(X, Y, theta))\n",
    "        \n",
    "        return theta, costs"
   ]
  },
  {
   "cell_type": "code",
   "execution_count": 63,
   "id": "fc5a5364",
   "metadata": {
    "scrolled": false
   },
   "outputs": [
    {
     "ename": "ValueError",
     "evalue": "shapes (17379,) and (24,) not aligned: 17379 (dim 0) != 24 (dim 0)",
     "output_type": "error",
     "traceback": [
      "\u001b[1;31m---------------------------------------------------------------------------\u001b[0m",
      "\u001b[1;31mValueError\u001b[0m                                Traceback (most recent call last)",
      "\u001b[1;32m<ipython-input-63-7aa026a932c6>\u001b[0m in \u001b[0;36m<module>\u001b[1;34m\u001b[0m\n\u001b[1;32m----> 1\u001b[1;33m \u001b[0mtheta\u001b[0m\u001b[1;33m,\u001b[0m \u001b[0mcosts\u001b[0m \u001b[1;33m=\u001b[0m \u001b[0mgradient_descent\u001b[0m\u001b[1;33m(\u001b[0m\u001b[0mX\u001b[0m\u001b[1;33m,\u001b[0m \u001b[0mY\u001b[0m\u001b[1;33m,\u001b[0m \u001b[0mtheta\u001b[0m\u001b[1;33m,\u001b[0m \u001b[0malpha\u001b[0m\u001b[1;33m=\u001b[0m\u001b[1;36m0.000068\u001b[0m\u001b[1;33m,\u001b[0m \u001b[0miterations\u001b[0m\u001b[1;33m=\u001b[0m\u001b[1;36m400000\u001b[0m\u001b[1;33m)\u001b[0m\u001b[1;33m\u001b[0m\u001b[1;33m\u001b[0m\u001b[0m\n\u001b[0m",
      "\u001b[1;32m<ipython-input-62-47092f315f2a>\u001b[0m in \u001b[0;36mgradient_descent\u001b[1;34m(X, Y, theta, alpha, iterations)\u001b[0m\n\u001b[0;32m      3\u001b[0m     \u001b[1;32mfor\u001b[0m \u001b[0mi\u001b[0m \u001b[1;32min\u001b[0m \u001b[0mrange\u001b[0m\u001b[1;33m(\u001b[0m\u001b[0miterations\u001b[0m\u001b[1;33m)\u001b[0m\u001b[1;33m:\u001b[0m\u001b[1;33m\u001b[0m\u001b[1;33m\u001b[0m\u001b[0m\n\u001b[0;32m      4\u001b[0m         \u001b[0my_pred\u001b[0m \u001b[1;33m=\u001b[0m \u001b[0mnp\u001b[0m\u001b[1;33m.\u001b[0m\u001b[0mdot\u001b[0m\u001b[1;33m(\u001b[0m\u001b[0mX\u001b[0m\u001b[1;33m,\u001b[0m \u001b[0mtheta\u001b[0m\u001b[1;33m)\u001b[0m\u001b[1;33m\u001b[0m\u001b[1;33m\u001b[0m\u001b[0m\n\u001b[1;32m----> 5\u001b[1;33m         \u001b[0mder\u001b[0m \u001b[1;33m=\u001b[0m \u001b[0mnp\u001b[0m\u001b[1;33m.\u001b[0m\u001b[0mdot\u001b[0m\u001b[1;33m(\u001b[0m\u001b[0mX\u001b[0m\u001b[1;33m.\u001b[0m\u001b[0mtranspose\u001b[0m\u001b[1;33m(\u001b[0m\u001b[1;33m)\u001b[0m\u001b[1;33m,\u001b[0m \u001b[1;33m(\u001b[0m\u001b[0my_pred\u001b[0m \u001b[1;33m-\u001b[0m \u001b[0my\u001b[0m\u001b[1;33m)\u001b[0m\u001b[1;33m)\u001b[0m \u001b[1;33m/\u001b[0m \u001b[0mm\u001b[0m\u001b[1;33m\u001b[0m\u001b[1;33m\u001b[0m\u001b[0m\n\u001b[0m\u001b[0;32m      6\u001b[0m         \u001b[0mtheta\u001b[0m \u001b[1;33m-=\u001b[0m \u001b[0malpha\u001b[0m \u001b[1;33m*\u001b[0m \u001b[0mder\u001b[0m\u001b[1;33m\u001b[0m\u001b[1;33m\u001b[0m\u001b[0m\n\u001b[0;32m      7\u001b[0m         \u001b[0mcosts\u001b[0m\u001b[1;33m.\u001b[0m\u001b[0mhappend\u001b[0m\u001b[1;33m(\u001b[0m\u001b[0mcost_function\u001b[0m\u001b[1;33m(\u001b[0m\u001b[0mX\u001b[0m\u001b[1;33m,\u001b[0m \u001b[0mY\u001b[0m\u001b[1;33m,\u001b[0m \u001b[0mtheta\u001b[0m\u001b[1;33m)\u001b[0m\u001b[1;33m)\u001b[0m\u001b[1;33m\u001b[0m\u001b[1;33m\u001b[0m\u001b[0m\n",
      "\u001b[1;32m<__array_function__ internals>\u001b[0m in \u001b[0;36mdot\u001b[1;34m(*args, **kwargs)\u001b[0m\n",
      "\u001b[1;31mValueError\u001b[0m: shapes (17379,) and (24,) not aligned: 17379 (dim 0) != 24 (dim 0)"
     ]
    }
   ],
   "source": [
    "theta, costs = gradient_descent(X, Y, theta, alpha=0.000068, iterations=400000)"
   ]
  },
  {
   "cell_type": "markdown",
   "id": "2f786010",
   "metadata": {},
   "source": [
    "# Model with sklearn \n",
    "\n",
    "## Linear regression "
   ]
  },
  {
   "cell_type": "code",
   "execution_count": 16,
   "id": "abd85bee",
   "metadata": {},
   "outputs": [
    {
     "name": "stdout",
     "output_type": "stream",
     "text": [
      "x_train -> (13034, 9)\n",
      "y_train -> (13034,)\n",
      "x_test -> (4345, 9)\n",
      "y_test -> (4345,)\n"
     ]
    }
   ],
   "source": [
    "X = hour.values[:,2:11] \n",
    "Y = hour.values[:,12] #count values\n",
    "\n",
    "from sklearn.model_selection import train_test_split\n",
    "\n",
    "x_train , x_test , y_train , y_test = train_test_split(X , Y)\n",
    "#Splitting the data for a test set and a train set \n",
    "\n",
    "print(\"x_train ->\" , x_train.shape)\n",
    "print(\"y_train ->\" , y_train.shape)\n",
    "print(\"x_test ->\" , x_test.shape)\n",
    "print(\"y_test ->\" , y_test.shape)"
   ]
  },
  {
   "cell_type": "code",
   "execution_count": 30,
   "id": "ccd038ff",
   "metadata": {
    "scrolled": true
   },
   "outputs": [
    {
     "name": "stdout",
     "output_type": "stream",
     "text": [
      "MSE : 20069.14923556307\n",
      "score: 0.37359504462256377\n",
      "r2: 0.37359504462256377\n"
     ]
    }
   ],
   "source": [
    "from sklearn.linear_model import LinearRegression\n",
    "from sklearn.metrics import r2_score\n",
    "\n",
    "model = LinearRegression()\n",
    "model.fit(x_train, y_train)\n",
    "#We are using the linear regression \n",
    "\n",
    "y_pred_train = model.predict(x_train)\n",
    "y_pred_test = model.predict(x_test)\n",
    "\n",
    "mse = mean_squared_error(y_train, y_pred_train)\n",
    "print(\"MSE :\", mse)\n",
    "\n",
    "score = model.score(x_test, y_test)\n",
    "print(\"score:\", score)\n",
    "\n",
    "r2 = r2_score(y_test, y_pred_test)\n",
    "print(\"r2:\", r2)"
   ]
  },
  {
   "cell_type": "markdown",
   "id": "9823aea2",
   "metadata": {},
   "source": [
    "## Linear regression + preprocessing (PolynomialFeatures)"
   ]
  },
  {
   "cell_type": "code",
   "execution_count": 31,
   "id": "bb1a3f97",
   "metadata": {},
   "outputs": [
    {
     "name": "stdout",
     "output_type": "stream",
     "text": [
      "MSE : 14923.80221795268\n",
      "score: 0.5392726077526921\n",
      "r2: 0.5392726077526921\n"
     ]
    }
   ],
   "source": [
    "from sklearn.preprocessing import PolynomialFeatures\n",
    "\n",
    "preprocess2= PolynomialFeatures(degree = 2)\n",
    "\n",
    "x_train_pow2 = preprocess2.fit_transform(x_train)\n",
    "x_test_pow2 = preprocess2.fit_transform(x_test)\n",
    "#We are preprocessing the data \n",
    "#In this case we are elevating the values of X to the power 2\n",
    "\n",
    "model.fit(x_train_pow2, y_train)\n",
    "\n",
    "y_pred_train_pow2 = model.predict(x_train_pow2) \n",
    "y_pred_test_pow2 = model.predict(x_test_pow2)\n",
    "\n",
    "mse = mean_squared_error(y_train, y_pred_train_pow2)\n",
    "print(\"MSE :\", mse)\n",
    "\n",
    "score_of_pow2 = model.score(x_test_pow2, y_test)\n",
    "print(\"score:\", score_of_pow2)\n",
    "\n",
    "r2 = r2_score(y_test, y_pred_test_pow2)\n",
    "print(\"r2:\", r2)"
   ]
  },
  {
   "cell_type": "code",
   "execution_count": 33,
   "id": "149d0a68",
   "metadata": {},
   "outputs": [
    {
     "name": "stdout",
     "output_type": "stream",
     "text": [
      "MSE : 12053.111482265876\n",
      "score: 0.6199638091556172\n",
      "r2: 0.6199638091556172\n"
     ]
    }
   ],
   "source": [
    "preprocess3= PolynomialFeatures(degree = 3)\n",
    "\n",
    "x_train_pow3 = preprocess3.fit_transform(x_train)\n",
    "x_test_pow3 = preprocess3.fit_transform(x_test)\n",
    "#We are preprocessing the data \n",
    "#In this case we are elevating the values of X to the power 3\n",
    "\n",
    "model.fit(x_train_pow3, y_train)\n",
    "\n",
    "y_pred_train_pow3 = model.predict(x_train_pow3) \n",
    "y_pred_test_pow3 = model.predict(x_test_pow3)\n",
    "\n",
    "mse = mean_squared_error(y_train, y_pred_train_pow3)\n",
    "print(\"MSE :\", mse)\n",
    "\n",
    "score_of_pow3 = model.score(x_test_pow3, y_test)\n",
    "print(\"score:\", score_of_pow3)\n",
    "\n",
    "r2 = r2_score(y_test, y_pred_test_pow3)\n",
    "print(\"r2:\", r2)"
   ]
  }
 ],
 "metadata": {
  "kernelspec": {
   "display_name": "Python 3",
   "language": "python",
   "name": "python3"
  },
  "language_info": {
   "codemirror_mode": {
    "name": "ipython",
    "version": 3
   },
   "file_extension": ".py",
   "mimetype": "text/x-python",
   "name": "python",
   "nbconvert_exporter": "python",
   "pygments_lexer": "ipython3",
   "version": "3.8.8"
  }
 },
 "nbformat": 4,
 "nbformat_minor": 5
}
